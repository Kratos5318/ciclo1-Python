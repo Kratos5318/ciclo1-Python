{
  "nbformat": 4,
  "nbformat_minor": 0,
  "metadata": {
    "colab": {
      "name": "Untitled14.ipynb",
      "provenance": [],
      "include_colab_link": true
    },
    "kernelspec": {
      "name": "python3",
      "display_name": "Python 3"
    },
    "language_info": {
      "name": "python"
    }
  },
  "cells": [
    {
      "cell_type": "markdown",
      "metadata": {
        "id": "view-in-github",
        "colab_type": "text"
      },
      "source": [
        "<a href=\"https://colab.research.google.com/github/Kratos5318/ciclo1-Python/blob/main/listas.ipynb\" target=\"_parent\"><img src=\"https://colab.research.google.com/assets/colab-badge.svg\" alt=\"Open In Colab\"/></a>"
      ]
    },
    {
      "cell_type": "markdown",
      "source": [
        "<h2>Listas</h2>"
      ],
      "metadata": {
        "id": "ZC5rrgRC3BHC"
      }
    },
    {
      "cell_type": "code",
      "execution_count": null,
      "metadata": {
        "colab": {
          "base_uri": "https://localhost:8080/"
        },
        "id": "fPjrtuX03AbS",
        "outputId": "e11b261c-2040-41b8-8d8f-7695e7225a26"
      },
      "outputs": [
        {
          "output_type": "stream",
          "name": "stdout",
          "text": [
            "['texto', 123, 2.3, True, <class 'str'>, <class 'int'>, <class 'float'>, <class 'bool'>]\n"
          ]
        }
      ],
      "source": [
        "#lista1 = [ ] #Parentesis cuadrados, parentesis cerrado\n",
        "lista1 = [\"texto\", 123, 2.3, True] #Se puede armar con lo quiera\n",
        "lista2 = [type(i) for i in lista1]\n",
        "lista3 = lista1 + lista2 \n",
        "print(lista3)\n",
        "\n",
        "\"\"\"\n",
        "for i in range(0, len(lista1),1):\n",
        "    itemL1 = lista1[i]\n",
        "    itemL2 = lista2[i]\n",
        "    print(\"lista 1 [{}]: {} \".format(i, itemL1))\n",
        "    print(\"lista 2 [{}]: {} \".format(i, itemL2))\n",
        "\"\"\"\n"
      ]
    },
    {
      "cell_type": "code",
      "source": [
        "animales = [\"pajaro carpintero\", \"conejo\", \"vaca\"]\n",
        "comidas = [\"alpiste\", \"purina\", \"pasto\"]\n",
        "ani_comi = []\n",
        "for i in range(0,len(animales),1):\n",
        "    animal = animales[i]\n",
        "    comida = comidas[i]\n",
        "    tuplas = [animal, comida] #cosa ahora se puede modificar\n",
        "    ani_comi.append(tuplas)\n",
        "#antes\n",
        "print(ani_comi)\n",
        "for item in ani_comi:\n",
        "    print(\"El animal {}, come {}\".format(item[0], item[1]))\n",
        "#Realizo los cambios\n",
        "ani_comi[0][0] = \"tortuga\"\n",
        "ani_comi[0][1] = \"lechuga\"\n",
        "ani_comi[1][0] = \"perro\"\n",
        "ani_comi[2][0] = \"cabra\"\n",
        "#déspues\n",
        "print(\"\\n Lista cambiada \", ani_comi)\n",
        "for item in ani_comi:\n",
        "    print(\"El animal {}, come {}\".format(item[0], item[1]))\n"
      ],
      "metadata": {
        "colab": {
          "base_uri": "https://localhost:8080/"
        },
        "id": "J8Ej0vIF6c3-",
        "outputId": "1c11e7f5-728f-4aca-bc5c-f15cbf85c020"
      },
      "execution_count": null,
      "outputs": [
        {
          "output_type": "stream",
          "name": "stdout",
          "text": [
            "[['pajaro carpintero', 'alpiste'], ['conejo', 'purina'], ['vaca', 'pasto']]\n",
            "El animal pajaro carpintero, come alpiste\n",
            "El animal conejo, come purina\n",
            "El animal vaca, come pasto\n",
            "\n",
            " Lista cambiada  [['tortuga', 'lechuga'], ['perro', 'purina'], ['cabra', 'pasto']]\n",
            "El animal tortuga, come lechuga\n",
            "El animal perro, come purina\n",
            "El animal cabra, come pasto\n"
          ]
        }
      ]
    },
    {
      "cell_type": "markdown",
      "source": [
        "<h2>Operadores en la lista</h2>"
      ],
      "metadata": {
        "id": "pgqx5Dfo-9DY"
      }
    },
    {
      "cell_type": "code",
      "source": [
        "lista1 = [\"león\", \"delfin\", \"avestruz\"]\n",
        "lista2 = []\n",
        "lista2.append(lista1*4)\n",
        "userInput = input() #solicitando información al usuario\n",
        "userInput = userInput.lower() #convirtiendo a minúscula\n",
        "\n",
        "esta = userInput not in lista1 #Revisando si el elemento esta en la lista\n",
        "if esta == False:\n",
        "    print(\"{} si esta\".format(userInput))\n",
        "elif esta == True:\n",
        "    print(\"{} no esta\".format(userInput))\n",
        "\n",
        "esta2 = userInput in lista1 #Revisando si el elemento esta en la lista\n",
        "if esta2 == True:\n",
        "    print(\"{} si esta\".format(userInput))\n",
        "elif esta2 == False:\n",
        "    print(\"{} no esta\".format(userInput))"
      ],
      "metadata": {
        "colab": {
          "base_uri": "https://localhost:8080/"
        },
        "id": "vQN6r3kw93Ej",
        "outputId": "d7c2629f-9f98-4539-b05f-a0f3cd564719"
      },
      "execution_count": null,
      "outputs": [
        {
          "output_type": "stream",
          "name": "stdout",
          "text": [
            "ratón\n",
            "ratón no esta\n",
            "ratón no esta\n"
          ]
        }
      ]
    },
    {
      "cell_type": "code",
      "source": [
        "lista_comidas = [\"empanada\", \"salchipapas\", \"pizza\", \"helado\"]\n",
        "lista2 = [\"no se\"]\n",
        "lista2.extend(lista_comidas)\n",
        "print(lista2)\n",
        "condicion = input(\"desea agregar un elemento a la lista de comida\")\n",
        "if condicion == \"no\":\n",
        "    pass\n",
        "else:\n",
        "    agregar_item = input(\"Escriba la comida que quiere agregar: \")\n",
        "    lista_comidas.append(agregar_item)\n",
        "print(lista_comidas)"
      ],
      "metadata": {
        "colab": {
          "base_uri": "https://localhost:8080/"
        },
        "id": "syVe2jp6AhAL",
        "outputId": "528f7cf4-e5c4-4742-d45e-c4e90fb249d0"
      },
      "execution_count": null,
      "outputs": [
        {
          "output_type": "stream",
          "name": "stdout",
          "text": [
            "['no se', 'empanada', 'salchipapas', 'pizza', 'helado']\n",
            "desea agregar un elemento a la lista de comidasi\n",
            "Escriba la comida que quiere agregar: hamburguesa\n",
            "['empanada', 'salchipapas', 'pizza', 'helado', 'hamburguesa']\n"
          ]
        }
      ]
    },
    {
      "cell_type": "code",
      "source": [
        "lista = [\"empanada\", \"salchipapas\", \"pizza\", \"helado\"]\n",
        "print(\"Lista de izquierda a derecha: {}\".format(lista[0]))\n",
        "print(\"Lista de izquierda a derecha: {}\".format(lista[1]))\n",
        "print(\"Lista de izquierda a derecha: {}\".format(lista[2]))\n",
        "print(\"Lista de izquierda a derecha: {}\".format(lista[3]))\n",
        "print(\"Lista de derecha a izquierda: {}\".format(lista[-1]))\n",
        "print(\"Lista de derecha a izquierda: {}\".format(lista[-2]))\n",
        "print(\"Lista de derecha a izquierda: {}\".format(lista[-3]))\n",
        "print(\"Lista de derecha a izquierda: {}\".format(lista[-4]))"
      ],
      "metadata": {
        "colab": {
          "base_uri": "https://localhost:8080/"
        },
        "id": "5uYeaFC5B_s-",
        "outputId": "9a2dc855-c280-4d47-a499-2c4ae83709c6"
      },
      "execution_count": null,
      "outputs": [
        {
          "output_type": "stream",
          "name": "stdout",
          "text": [
            "Lista de izquierda a derecha: empanada\n",
            "Lista de izquierda a derecha: salchipapas\n",
            "Lista de izquierda a derecha: pizza\n",
            "Lista de izquierda a derecha: helado\n",
            "Lista de derecha a izquierda: helado\n",
            "Lista de derecha a izquierda: pizza\n",
            "Lista de derecha a izquierda: salchipapas\n",
            "Lista de derecha a izquierda: empanada\n"
          ]
        }
      ]
    },
    {
      "cell_type": "code",
      "source": [
        "aleatorios = [2,3,6,8,21,345,67,8]\n",
        "for item in aleatorios:\n",
        "    print(item, end= \" \\n--suscribete a mi canal--\\n \")"
      ],
      "metadata": {
        "colab": {
          "base_uri": "https://localhost:8080/"
        },
        "id": "1iOqGVJKEaYn",
        "outputId": "676b7fe0-57a0-4962-afba-4a17763208eb"
      },
      "execution_count": null,
      "outputs": [
        {
          "output_type": "stream",
          "name": "stdout",
          "text": [
            "2 \n",
            "--suscribete a mi canal--\n",
            " 3 \n",
            "--suscribete a mi canal--\n",
            " 6 \n",
            "--suscribete a mi canal--\n",
            " 8 \n",
            "--suscribete a mi canal--\n",
            " 21 \n",
            "--suscribete a mi canal--\n",
            " 345 \n",
            "--suscribete a mi canal--\n",
            " 67 \n",
            "--suscribete a mi canal--\n",
            " 8 \n",
            "--suscribete a mi canal--\n",
            " "
          ]
        }
      ]
    },
    {
      "cell_type": "code",
      "source": [
        "lista_cosas = [\"lapiz\", \"borrador\", \"cuaderno\", \"cartuchera\"]\n",
        "item0, item1, item2, item3 = lista_cosas\n",
        "print(item3)"
      ],
      "metadata": {
        "colab": {
          "base_uri": "https://localhost:8080/"
        },
        "id": "ItfX1GOzE7GB",
        "outputId": "18df0676-5bc2-4a27-f96b-060dd92a6c51"
      },
      "execution_count": null,
      "outputs": [
        {
          "output_type": "stream",
          "name": "stdout",
          "text": [
            "cartuchera\n"
          ]
        }
      ]
    },
    {
      "cell_type": "code",
      "source": [
        "lista_cosas = [\"lapiz\", \"borrador\", \"cuaderno\", \"cartuchera\"]\n",
        "lista2 = lista_cosas.copy() \n",
        "print(lista_cosas)\n",
        "lista_cosas.pop(1) #elimino el elemento en el indice\n",
        "lista_cosas.insert(1, \"regla\") # reemplazo con un nuevo elemento en el indice\n",
        "print(lista_cosas)\n"
      ],
      "metadata": {
        "colab": {
          "base_uri": "https://localhost:8080/"
        },
        "id": "-_gBNYYAFpTA",
        "outputId": "94aa365b-4bae-4a70-e276-c2c68a372717"
      },
      "execution_count": null,
      "outputs": [
        {
          "output_type": "stream",
          "name": "stdout",
          "text": [
            "['lapiz', 'borrador', 'cuaderno', 'cartuchera']\n",
            "['lapiz', 'regla', 'cuaderno', 'cartuchera']\n"
          ]
        }
      ]
    }
  ]
}