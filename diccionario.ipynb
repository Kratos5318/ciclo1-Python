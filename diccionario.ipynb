{
  "nbformat": 4,
  "nbformat_minor": 0,
  "metadata": {
    "colab": {
      "name": "Untitled19.ipynb",
      "provenance": [],
      "include_colab_link": true
    },
    "kernelspec": {
      "name": "python3",
      "display_name": "Python 3"
    },
    "language_info": {
      "name": "python"
    }
  },
  "cells": [
    {
      "cell_type": "markdown",
      "metadata": {
        "id": "view-in-github",
        "colab_type": "text"
      },
      "source": [
        "<a href=\"https://colab.research.google.com/github/Kratos5318/ciclo1-Python/blob/main/diccionario.ipynb\" target=\"_parent\"><img src=\"https://colab.research.google.com/assets/colab-badge.svg\" alt=\"Open In Colab\"/></a>"
      ]
    },
    {
      "cell_type": "code",
      "execution_count": null,
      "metadata": {
        "colab": {
          "base_uri": "https://localhost:8080/"
        },
        "id": "cjltj_qz9PBX",
        "outputId": "b549160d-fbad-4004-a6e3-428d833f2920"
      },
      "outputs": [
        {
          "output_type": "stream",
          "name": "stdout",
          "text": [
            "{'nombre': 'Diego'}\n",
            "dict_keys([212, 'Nombre', 'edad', 'hora'])\n",
            "dict_values([2341, 'Daniel', 28, '21:46'])\n",
            "212\n",
            "Nombre\n",
            "edad\n",
            "hora\n",
            "True\n",
            "None\n"
          ]
        }
      ],
      "source": [
        "diccionario = {}\n",
        "diccionario[\"nombre\"] = \"Diego\"\n",
        "print(diccionario)\n",
        "nombre = \"Nombre\"\n",
        "edad = 28\n",
        "diccionario2 = {212: 2341, nombre: \"Daniel\", 'edad': edad, \"hora\": \"21:46\" } #(clave:valor)\n",
        "print(diccionario2.keys())\n",
        "print(diccionario2.values())\n",
        "for claves in diccionario2:\n",
        "    print(claves)\n",
        "\n",
        "print(\"Daniel\" in diccionario2.values())\n",
        "print(diccionario.update(diccionario2))\n"
      ]
    },
    {
      "cell_type": "code",
      "source": [
        "dic1 = {\"name\": \"Pedro\", \"edad\":34}\n",
        "dic2 = dic1.copy()\n",
        "dic2[\"edad\"]= 35\n",
        "print(dic1)\n",
        "print(dic2)"
      ],
      "metadata": {
        "colab": {
          "base_uri": "https://localhost:8080/"
        },
        "id": "eogFqdP9_xUs",
        "outputId": "5b5025a2-8e2e-41c7-ef59-2370a25fe39b"
      },
      "execution_count": null,
      "outputs": [
        {
          "output_type": "stream",
          "name": "stdout",
          "text": [
            "{'name': 'Pedro', 'edad': 34}\n",
            "{'name': 'Pedro', 'edad': 35}\n"
          ]
        }
      ]
    },
    {
      "cell_type": "markdown",
      "source": [
        "<h2>Diccionarios</h2>\n",
        "traductor"
      ],
      "metadata": {
        "id": "AUOAl3tvBHqH"
      }
    },
    {
      "cell_type": "code",
      "source": [
        "ingles = {\"hello\": \"hola\", \"pencil\": \"Lapíz\", \"word\": \"palabra\"}\n",
        "espanol = {}\n",
        "#diIn= clave, value\n",
        "#diEs = value, clave\n",
        "#cuando llamo al diccionario por la clave el me devuelve el valor\n",
        "for clave in ingles:\n",
        "    valor = ingles[clave]\n",
        "    espanol[valor] = clave\n",
        "#print(ingles[\"hello\"])\n",
        "for i in range(3):\n",
        "    palabra = input(\"Añade la nueva clave\")\n",
        "    valor_user = input(\"Añade el valor de tu nueva entrada\")\n",
        "    ingles[palabra] = valor_user\n",
        "\n",
        "print(ingles)"
      ],
      "metadata": {
        "colab": {
          "base_uri": "https://localhost:8080/"
        },
        "id": "M72wjIvMBHFS",
        "outputId": "719b140e-28a1-49ce-fc0c-7df7096fa73a"
      },
      "execution_count": null,
      "outputs": [
        {
          "output_type": "stream",
          "name": "stdout",
          "text": [
            "Añade la nueva claveappend\n",
            "Añade el valor de tu nueva entradaagregar\n",
            "Añade la nueva clavepoint\n",
            "Añade el valor de tu nueva entradapunto\n",
            "Añade la nueva claveeye\n",
            "Añade el valor de tu nueva entradaojo\n",
            "{'hello': 'hola', 'pencil': 'Lapíz', 'word': 'palabra', 'append': 'agregar', 'point': 'punto', 'eye': 'ojo'}\n"
          ]
        }
      ]
    }
  ]
}