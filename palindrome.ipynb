{
  "nbformat": 4,
  "nbformat_minor": 0,
  "metadata": {
    "colab": {
      "name": "Untitled18.ipynb",
      "provenance": [],
      "include_colab_link": true
    },
    "kernelspec": {
      "name": "python3",
      "display_name": "Python 3"
    },
    "language_info": {
      "name": "python"
    }
  },
  "cells": [
    {
      "cell_type": "markdown",
      "metadata": {
        "id": "view-in-github",
        "colab_type": "text"
      },
      "source": [
        "<a href=\"https://colab.research.google.com/github/Kratos5318/ciclo1-Python/blob/main/palindrome.ipynb\" target=\"_parent\"><img src=\"https://colab.research.google.com/assets/colab-badge.svg\" alt=\"Open In Colab\"/></a>"
      ]
    },
    {
      "cell_type": "markdown",
      "source": [
        "<h2>Programa que dice si una oración es palíndrome o no</h2>\n",
        "<ul>\n",
        "<li> Función que pida la palabra: recibe(no) retorna(si): lo que ingresa el usuario</li>\n",
        "<li> Función que me limpie la entrada de la lista(espacios, mayusculas, puntos, comas, y dos puntos. devuelve(si): la entrada limpia, recibe(si): la entrada del usuario</li>\n",
        "<li> Funcion para clasificar recibe(si): la entrada limpia, devuelve (si): si es o no es palindrome</li>\n",
        "<ul>\n",
        "<li> Recorro la lista de atras hacia adelante y de adelante hacia atras al tiempo</li>\n",
        "</ul>\n",
        "</ul>"
      ],
      "metadata": {
        "id": "mlLGpOA5saT4"
      }
    },
    {
      "cell_type": "code",
      "execution_count": null,
      "metadata": {
        "colab": {
          "base_uri": "https://localhost:8080/"
        },
        "id": "v6FKfn7XsXmu",
        "outputId": "af1ab411-834c-4913-dfc9-4a8818808d79"
      },
      "outputs": [
        {
          "output_type": "stream",
          "name": "stdout",
          "text": [
            "Oye, ingresa tu oración! maicol lava la loza\n",
            "No es palindrome\n"
          ]
        }
      ],
      "source": [
        "#El doble for se utiliza cuando hay listas dentro de listas (Matrices)\n",
        "#lista = [[lista1], [lista2], [lista3]]userInput(para funciones) user_input(para variables)\n",
        "#los cuatro espacios se dejan con funciones, condiciones (if elif else), ciclos(for while)\n",
        "def userInput():\n",
        "    user_input = input(\"Oye, ingresa tu oración! \")\n",
        "    return user_input\n",
        "\n",
        "def cleanFuntion(datos_limpiar):\n",
        "    datos_limpiar = datos_limpiar.upper()\n",
        "    #Forma Larga\n",
        "    #datos_limpiar = datos_limpiar.replace(\" \",\"\")#el caracter para remover, y el nuevo caracer\n",
        "    #datos_limpiar = datos_limpiar.replace(\",\",\"\")#el caracter para remover, y el nuevo caracer\n",
        "    #datos_limpiar = datos_limpiar.replace(\".\",\"\")#el caracter para remover, y el nuevo caracer\n",
        "    #datos_limpiar = datos_limpiar.replace(\":\",\"\")#el caracter para remover, y el nuevo caracer\n",
        "    #datos_limpiar = datos_limpiar.replace(\";\",\"\")#el caracter para remover, y el nuevo caracer\n",
        "    trash = [\" \", \",\", \";\", \":\", \".\"]\n",
        "    #estoy llamando elemento a elemnto\n",
        "    for item in trash:\n",
        "        datos_limpiar = datos_limpiar.replace(item,\"\")\n",
        "    data_clean = datos_limpiar\n",
        "    return data_clean\n",
        "\n",
        "def escogePalindromo(datos_limpios):\n",
        "    lista_paso = []\n",
        "    #recorrer posiciones\n",
        "    for indice in range(0, len(datos_limpios), 1): #range(inicia,termina, paso) ojo el range termina un indice antes\n",
        "        izquiera_a_derecha = indice\n",
        "        derecha_a_izquierda = -indice -1\n",
        "        derecha = datos_limpios[izquiera_a_derecha]\n",
        "        izquierda = datos_limpios[derecha_a_izquierda]\n",
        "        if derecha == izquierda:\n",
        "            lista_paso.append(derecha)\n",
        "\n",
        "    if len(lista_paso) == len(datos_limpios):\n",
        "        isPalindromo = \"Es palindrome\"\n",
        "    else:\n",
        "        isPalindromo = \"No es palindrome\"\n",
        "    return isPalindromo\n",
        "\n",
        "   \n",
        "datos_limpiar = userInput()\n",
        "datos_limpios = cleanFuntion(datos_limpiar)\n",
        "print(escogePalindromo(datos_limpios))"
      ]
    }
  ]
}