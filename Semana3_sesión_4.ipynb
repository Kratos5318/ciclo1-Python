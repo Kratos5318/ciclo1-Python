{
  "nbformat": 4,
  "nbformat_minor": 0,
  "metadata": {
    "colab": {
      "name": "Semana3 sesión 4.ipynb",
      "provenance": [],
      "include_colab_link": true
    },
    "kernelspec": {
      "name": "python3",
      "display_name": "Python 3"
    },
    "language_info": {
      "name": "python"
    }
  },
  "cells": [
    {
      "cell_type": "markdown",
      "metadata": {
        "id": "view-in-github",
        "colab_type": "text"
      },
      "source": [
        "<a href=\"https://colab.research.google.com/github/Kratos5318/ciclo1-Python/blob/main/Semana3_sesi%C3%B3n_4.ipynb\" target=\"_parent\"><img src=\"https://colab.research.google.com/assets/colab-badge.svg\" alt=\"Open In Colab\"/></a>"
      ]
    },
    {
      "cell_type": "markdown",
      "source": [
        "<h2>\n",
        "<p> Desarrollar un programa que imprima el cuadrado del número que el usuario ingresa mientras que el número ingresado no sea negativo </p>\n",
        "</h2>"
      ],
      "metadata": {
        "id": "zjsB2-gFAEE-"
      }
    },
    {
      "cell_type": "code",
      "execution_count": null,
      "metadata": {
        "colab": {
          "base_uri": "https://localhost:8080/"
        },
        "id": "lI8f4LvMABVa",
        "outputId": "19df3488-a8bd-4f6b-eebf-28ea10598543"
      },
      "outputs": [
        {
          "output_type": "stream",
          "name": "stdout",
          "text": [
            "2\n",
            "El cuadrado es:  4\n",
            "3\n",
            "El cuadrado es:  9\n",
            "3\n",
            "El cuadrado es:  9\n",
            "4\n",
            "El cuadrado es:  16\n",
            "-1\n",
            "el numero no puede ser negativo.\n",
            "El cuadrado es:  None\n"
          ]
        }
      ],
      "source": [
        "def clasificar(numero):\n",
        "    if numero < 0:\n",
        "        print(\"el numero no puede ser negativo.\")\n",
        "    else:\n",
        "        cuadrado = numero*numero #Local\n",
        "        #print(\"El numero era {} y su cuadrado es: {}\".format(numero, cuadrado))\n",
        "        return cuadrado\n",
        "\n",
        "def entrada():\n",
        "    numero = input() #string\n",
        "    numero = int(numero) #convierto a entero\n",
        "    algoRecibido = clasificar(numero)\n",
        "    return algoRecibido\n",
        "\n",
        "for i in range(5):\n",
        "    print(\"El cuadrado es: \", entrada())"
      ]
    },
    {
      "cell_type": "markdown",
      "source": [
        "<h2> <p> Desarrollar un programa que dado un número entero positivo n calcule e imprima (separados por espacios) n/2 si es par o 3n + 1 si es impar. El programa debe repetir el proceso con el número resultado\n",
        "de dicha operación mientras este sea diferente de 1. Por ejemplo para el número 3 debe imprimir 10 5 16 8 4 2 1. \n",
        "</p>\n",
        "</h2>"
      ],
      "metadata": {
        "id": "ufxECW0NGGgg"
      }
    },
    {
      "cell_type": "code",
      "source": [
        "def entrada(numero):\n",
        "    opcion = clasificar(numero)\n",
        "    opcion2 = clasificar2(opcion, numero)\n",
        "    return opcion2\n",
        "\n",
        "def clasificar2(opcion, numero):\n",
        "    salida = 0\n",
        "    if opcion == \"par\":\n",
        "        salida= par(numero)\n",
        "    elif opcion == \"impar\":\n",
        "        salida = impar(numero)\n",
        "    return salida\n",
        "\n",
        "def par(numero):\n",
        "    salida = numero // 2 #Sale tipo float\n",
        "  #  salida  = int(salida) # convierte en entero\n",
        "    return salida\n",
        "\n",
        "def impar(numero):\n",
        "    salida = 3*numero + 1\n",
        "    return salida\n",
        "\n",
        "def clasificar(numero):\n",
        "    salida = \"\"\n",
        "    if numero%2 == 0:\n",
        "        salida = \"par\"\n",
        "    elif numero%2 != 0:\n",
        "        salida = \"impar\"\n",
        "    return salida\n",
        "\n",
        "def main():\n",
        "    numero = input()\n",
        "    numero = int(numero)\n",
        "    variable = entrada(numero)\n",
        "    while True:\n",
        "        print(variable)\n",
        "        if variable == 1:\n",
        "            break\n",
        "        else:\n",
        "            variable = entrada(variable)\n",
        "\n",
        "main()\n"
      ],
      "metadata": {
        "colab": {
          "base_uri": "https://localhost:8080/"
        },
        "id": "5XFD93FNGTiX",
        "outputId": "43bd2ece-acd4-4ec3-a0f5-055ccb93d08e"
      },
      "execution_count": null,
      "outputs": [
        {
          "output_type": "stream",
          "name": "stdout",
          "text": [
            "3\n",
            "10\n",
            "5\n",
            "16\n",
            "8\n",
            "4\n",
            "2\n",
            "1\n"
          ]
        }
      ]
    },
    {
      "cell_type": "markdown",
      "source": [
        "<h2>\n",
        "<p>\n",
        "Imprimir un listado con los números del 1 al 100 cada uno con su respectivo cuadrado. \n",
        "</p> </h2>"
      ],
      "metadata": {
        "id": "7g1D67snQimH"
      }
    },
    {
      "cell_type": "code",
      "source": [
        "lista = []\n",
        "for i in range(1,101,1):\n",
        "    cuadrado = i*i\n",
        "    tupla = (i, cuadrado)\n",
        "    lista.append(tupla)\n",
        "#print(lista)\n",
        "for i in lista:\n",
        "    print(\"{} {} \\n\".format(i[0], i[1]))\n",
        "\n"
      ],
      "metadata": {
        "colab": {
          "base_uri": "https://localhost:8080/"
        },
        "id": "1yxGRBn1REAr",
        "outputId": "a54acc1f-3268-4d53-88c6-109cb07ae411"
      },
      "execution_count": null,
      "outputs": [
        {
          "output_type": "stream",
          "name": "stdout",
          "text": [
            "[(1, 1), (2, 4), (3, 9), (4, 16), (5, 25), (6, 36), (7, 49), (8, 64), (9, 81), (10, 100), (11, 121), (12, 144), (13, 169), (14, 196), (15, 225), (16, 256), (17, 289), (18, 324), (19, 361), (20, 400), (21, 441), (22, 484), (23, 529), (24, 576), (25, 625), (26, 676), (27, 729), (28, 784), (29, 841), (30, 900), (31, 961), (32, 1024), (33, 1089), (34, 1156), (35, 1225), (36, 1296), (37, 1369), (38, 1444), (39, 1521), (40, 1600), (41, 1681), (42, 1764), (43, 1849), (44, 1936), (45, 2025), (46, 2116), (47, 2209), (48, 2304), (49, 2401), (50, 2500), (51, 2601), (52, 2704), (53, 2809), (54, 2916), (55, 3025), (56, 3136), (57, 3249), (58, 3364), (59, 3481), (60, 3600), (61, 3721), (62, 3844), (63, 3969), (64, 4096), (65, 4225), (66, 4356), (67, 4489), (68, 4624), (69, 4761), (70, 4900), (71, 5041), (72, 5184), (73, 5329), (74, 5476), (75, 5625), (76, 5776), (77, 5929), (78, 6084), (79, 6241), (80, 6400), (81, 6561), (82, 6724), (83, 6889), (84, 7056), (85, 7225), (86, 7396), (87, 7569), (88, 7744), (89, 7921), (90, 8100), (91, 8281), (92, 8464), (93, 8649), (94, 8836), (95, 9025), (96, 9216), (97, 9409), (98, 9604), (99, 9801), (100, 10000)]\n",
            "1 1 \n",
            "\n",
            "2 4 \n",
            "\n",
            "3 9 \n",
            "\n",
            "4 16 \n",
            "\n",
            "5 25 \n",
            "\n",
            "6 36 \n",
            "\n",
            "7 49 \n",
            "\n",
            "8 64 \n",
            "\n",
            "9 81 \n",
            "\n",
            "10 100 \n",
            "\n",
            "11 121 \n",
            "\n",
            "12 144 \n",
            "\n",
            "13 169 \n",
            "\n",
            "14 196 \n",
            "\n",
            "15 225 \n",
            "\n",
            "16 256 \n",
            "\n",
            "17 289 \n",
            "\n",
            "18 324 \n",
            "\n",
            "19 361 \n",
            "\n",
            "20 400 \n",
            "\n",
            "21 441 \n",
            "\n",
            "22 484 \n",
            "\n",
            "23 529 \n",
            "\n",
            "24 576 \n",
            "\n",
            "25 625 \n",
            "\n",
            "26 676 \n",
            "\n",
            "27 729 \n",
            "\n",
            "28 784 \n",
            "\n",
            "29 841 \n",
            "\n",
            "30 900 \n",
            "\n",
            "31 961 \n",
            "\n",
            "32 1024 \n",
            "\n",
            "33 1089 \n",
            "\n",
            "34 1156 \n",
            "\n",
            "35 1225 \n",
            "\n",
            "36 1296 \n",
            "\n",
            "37 1369 \n",
            "\n",
            "38 1444 \n",
            "\n",
            "39 1521 \n",
            "\n",
            "40 1600 \n",
            "\n",
            "41 1681 \n",
            "\n",
            "42 1764 \n",
            "\n",
            "43 1849 \n",
            "\n",
            "44 1936 \n",
            "\n",
            "45 2025 \n",
            "\n",
            "46 2116 \n",
            "\n",
            "47 2209 \n",
            "\n",
            "48 2304 \n",
            "\n",
            "49 2401 \n",
            "\n",
            "50 2500 \n",
            "\n",
            "51 2601 \n",
            "\n",
            "52 2704 \n",
            "\n",
            "53 2809 \n",
            "\n",
            "54 2916 \n",
            "\n",
            "55 3025 \n",
            "\n",
            "56 3136 \n",
            "\n",
            "57 3249 \n",
            "\n",
            "58 3364 \n",
            "\n",
            "59 3481 \n",
            "\n",
            "60 3600 \n",
            "\n",
            "61 3721 \n",
            "\n",
            "62 3844 \n",
            "\n",
            "63 3969 \n",
            "\n",
            "64 4096 \n",
            "\n",
            "65 4225 \n",
            "\n",
            "66 4356 \n",
            "\n",
            "67 4489 \n",
            "\n",
            "68 4624 \n",
            "\n",
            "69 4761 \n",
            "\n",
            "70 4900 \n",
            "\n",
            "71 5041 \n",
            "\n",
            "72 5184 \n",
            "\n",
            "73 5329 \n",
            "\n",
            "74 5476 \n",
            "\n",
            "75 5625 \n",
            "\n",
            "76 5776 \n",
            "\n",
            "77 5929 \n",
            "\n",
            "78 6084 \n",
            "\n",
            "79 6241 \n",
            "\n",
            "80 6400 \n",
            "\n",
            "81 6561 \n",
            "\n",
            "82 6724 \n",
            "\n",
            "83 6889 \n",
            "\n",
            "84 7056 \n",
            "\n",
            "85 7225 \n",
            "\n",
            "86 7396 \n",
            "\n",
            "87 7569 \n",
            "\n",
            "88 7744 \n",
            "\n",
            "89 7921 \n",
            "\n",
            "90 8100 \n",
            "\n",
            "91 8281 \n",
            "\n",
            "92 8464 \n",
            "\n",
            "93 8649 \n",
            "\n",
            "94 8836 \n",
            "\n",
            "95 9025 \n",
            "\n",
            "96 9216 \n",
            "\n",
            "97 9409 \n",
            "\n",
            "98 9604 \n",
            "\n",
            "99 9801 \n",
            "\n",
            "100 10000 \n",
            "\n"
          ]
        }
      ]
    },
    {
      "cell_type": "markdown",
      "source": [
        "<h2>\n",
        "<p>\n",
        "Imprimir un listado con los números impares desde 1 hasta 999 y seguidamente otro listado con los números pares desde 2 hasta 1000.\n",
        "</p>\n",
        "</h2>"
      ],
      "metadata": {
        "id": "w9pCJazQSN1Q"
      }
    },
    {
      "cell_type": "code",
      "source": [
        "pares = []\n",
        "impares = []\n",
        "for i in range(1, 1000, 1):\n",
        "    if i%2 == 0:\n",
        "        pares.append(str(i))\n",
        "    elif i%2 != 0:\n",
        "        impares.append(str(i))\n",
        "\"\"\"\n",
        "for i in range(2,1001, 1):\n",
        "    if i%2 == 0:\n",
        "        pares.append(str(i))\n",
        "    elif i%2 != 0:\n",
        "        pass\n",
        "\"\"\"\n",
        "pares = \" \".join(pares)\n",
        "impares = \" \".join(impares)\n",
        "print(impares)\n",
        "print(pares)"
      ],
      "metadata": {
        "colab": {
          "base_uri": "https://localhost:8080/"
        },
        "id": "qlS9lSzyScXb",
        "outputId": "81001c55-b15d-48a3-dffb-818824f46846"
      },
      "execution_count": null,
      "outputs": [
        {
          "output_type": "stream",
          "name": "stdout",
          "text": [
            "1 3 5 7 9 11 13 15 17 19 21 23 25 27 29 31 33 35 37 39 41 43 45 47 49 51 53 55 57 59 61 63 65 67 69 71 73 75 77 79 81 83 85 87 89 91 93 95 97 99 101 103 105 107 109 111 113 115 117 119 121 123 125 127 129 131 133 135 137 139 141 143 145 147 149 151 153 155 157 159 161 163 165 167 169 171 173 175 177 179 181 183 185 187 189 191 193 195 197 199 201 203 205 207 209 211 213 215 217 219 221 223 225 227 229 231 233 235 237 239 241 243 245 247 249 251 253 255 257 259 261 263 265 267 269 271 273 275 277 279 281 283 285 287 289 291 293 295 297 299 301 303 305 307 309 311 313 315 317 319 321 323 325 327 329 331 333 335 337 339 341 343 345 347 349 351 353 355 357 359 361 363 365 367 369 371 373 375 377 379 381 383 385 387 389 391 393 395 397 399 401 403 405 407 409 411 413 415 417 419 421 423 425 427 429 431 433 435 437 439 441 443 445 447 449 451 453 455 457 459 461 463 465 467 469 471 473 475 477 479 481 483 485 487 489 491 493 495 497 499 501 503 505 507 509 511 513 515 517 519 521 523 525 527 529 531 533 535 537 539 541 543 545 547 549 551 553 555 557 559 561 563 565 567 569 571 573 575 577 579 581 583 585 587 589 591 593 595 597 599 601 603 605 607 609 611 613 615 617 619 621 623 625 627 629 631 633 635 637 639 641 643 645 647 649 651 653 655 657 659 661 663 665 667 669 671 673 675 677 679 681 683 685 687 689 691 693 695 697 699 701 703 705 707 709 711 713 715 717 719 721 723 725 727 729 731 733 735 737 739 741 743 745 747 749 751 753 755 757 759 761 763 765 767 769 771 773 775 777 779 781 783 785 787 789 791 793 795 797 799 801 803 805 807 809 811 813 815 817 819 821 823 825 827 829 831 833 835 837 839 841 843 845 847 849 851 853 855 857 859 861 863 865 867 869 871 873 875 877 879 881 883 885 887 889 891 893 895 897 899 901 903 905 907 909 911 913 915 917 919 921 923 925 927 929 931 933 935 937 939 941 943 945 947 949 951 953 955 957 959 961 963 965 967 969 971 973 975 977 979 981 983 985 987 989 991 993 995 997 999\n",
            "2 4 6 8 10 12 14 16 18 20 22 24 26 28 30 32 34 36 38 40 42 44 46 48 50 52 54 56 58 60 62 64 66 68 70 72 74 76 78 80 82 84 86 88 90 92 94 96 98 100 102 104 106 108 110 112 114 116 118 120 122 124 126 128 130 132 134 136 138 140 142 144 146 148 150 152 154 156 158 160 162 164 166 168 170 172 174 176 178 180 182 184 186 188 190 192 194 196 198 200 202 204 206 208 210 212 214 216 218 220 222 224 226 228 230 232 234 236 238 240 242 244 246 248 250 252 254 256 258 260 262 264 266 268 270 272 274 276 278 280 282 284 286 288 290 292 294 296 298 300 302 304 306 308 310 312 314 316 318 320 322 324 326 328 330 332 334 336 338 340 342 344 346 348 350 352 354 356 358 360 362 364 366 368 370 372 374 376 378 380 382 384 386 388 390 392 394 396 398 400 402 404 406 408 410 412 414 416 418 420 422 424 426 428 430 432 434 436 438 440 442 444 446 448 450 452 454 456 458 460 462 464 466 468 470 472 474 476 478 480 482 484 486 488 490 492 494 496 498 500 502 504 506 508 510 512 514 516 518 520 522 524 526 528 530 532 534 536 538 540 542 544 546 548 550 552 554 556 558 560 562 564 566 568 570 572 574 576 578 580 582 584 586 588 590 592 594 596 598 600 602 604 606 608 610 612 614 616 618 620 622 624 626 628 630 632 634 636 638 640 642 644 646 648 650 652 654 656 658 660 662 664 666 668 670 672 674 676 678 680 682 684 686 688 690 692 694 696 698 700 702 704 706 708 710 712 714 716 718 720 722 724 726 728 730 732 734 736 738 740 742 744 746 748 750 752 754 756 758 760 762 764 766 768 770 772 774 776 778 780 782 784 786 788 790 792 794 796 798 800 802 804 806 808 810 812 814 816 818 820 822 824 826 828 830 832 834 836 838 840 842 844 846 848 850 852 854 856 858 860 862 864 866 868 870 872 874 876 878 880 882 884 886 888 890 892 894 896 898 900 902 904 906 908 910 912 914 916 918 920 922 924 926 928 930 932 934 936 938 940 942 944 946 948 950 952 954 956 958 960 962 964 966 968 970 972 974 976 978 980 982 984 986 988 990 992 994 996 998\n"
          ]
        }
      ]
    }
  ]
}