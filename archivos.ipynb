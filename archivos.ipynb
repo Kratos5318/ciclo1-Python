{
  "nbformat": 4,
  "nbformat_minor": 0,
  "metadata": {
    "colab": {
      "name": "Untitled20.ipynb",
      "provenance": [],
      "include_colab_link": true
    },
    "kernelspec": {
      "name": "python3",
      "display_name": "Python 3"
    },
    "language_info": {
      "name": "python"
    }
  },
  "cells": [
    {
      "cell_type": "markdown",
      "metadata": {
        "id": "view-in-github",
        "colab_type": "text"
      },
      "source": [
        "<a href=\"https://colab.research.google.com/github/Kratos5318/ciclo1-Python/blob/main/archivos.ipynb\" target=\"_parent\"><img src=\"https://colab.research.google.com/assets/colab-badge.svg\" alt=\"Open In Colab\"/></a>"
      ]
    },
    {
      "cell_type": "code",
      "execution_count": null,
      "metadata": {
        "colab": {
          "base_uri": "https://localhost:8080/"
        },
        "id": "s2c86kOh2oCz",
        "outputId": "f452e4cb-7bf2-41a9-baba-cac860466cb1"
      },
      "outputs": [
        {
          "output_type": "stream",
          "name": "stdout",
          "text": [
            "<Response [200]>\n",
            "{'current_user_url': 'https://api.github.com/user', 'current_user_authorizations_html_url': 'https://github.com/settings/connections/applications{/client_id}', 'authorizations_url': 'https://api.github.com/authorizations', 'code_search_url': 'https://api.github.com/search/code?q={query}{&page,per_page,sort,order}', 'commit_search_url': 'https://api.github.com/search/commits?q={query}{&page,per_page,sort,order}', 'emails_url': 'https://api.github.com/user/emails', 'emojis_url': 'https://api.github.com/emojis', 'events_url': 'https://api.github.com/events', 'feeds_url': 'https://api.github.com/feeds', 'followers_url': 'https://api.github.com/user/followers', 'following_url': 'https://api.github.com/user/following{/target}', 'gists_url': 'https://api.github.com/gists{/gist_id}', 'hub_url': 'https://api.github.com/hub', 'issue_search_url': 'https://api.github.com/search/issues?q={query}{&page,per_page,sort,order}', 'issues_url': 'https://api.github.com/issues', 'keys_url': 'https://api.github.com/user/keys', 'label_search_url': 'https://api.github.com/search/labels?q={query}&repository_id={repository_id}{&page,per_page}', 'notifications_url': 'https://api.github.com/notifications', 'organization_url': 'https://api.github.com/orgs/{org}', 'organization_repositories_url': 'https://api.github.com/orgs/{org}/repos{?type,page,per_page,sort}', 'organization_teams_url': 'https://api.github.com/orgs/{org}/teams', 'public_gists_url': 'https://api.github.com/gists/public', 'rate_limit_url': 'https://api.github.com/rate_limit', 'repository_url': 'https://api.github.com/repos/{owner}/{repo}', 'repository_search_url': 'https://api.github.com/search/repositories?q={query}{&page,per_page,sort,order}', 'current_user_repositories_url': 'https://api.github.com/user/repos{?type,page,per_page,sort}', 'starred_url': 'https://api.github.com/user/starred{/owner}{/repo}', 'starred_gists_url': 'https://api.github.com/gists/starred', 'topic_search_url': 'https://api.github.com/search/topics?q={query}{&page,per_page}', 'user_url': 'https://api.github.com/users/{user}', 'user_organizations_url': 'https://api.github.com/user/orgs', 'user_repositories_url': 'https://api.github.com/users/{user}/repos{?type,page,per_page,sort}', 'user_search_url': 'https://api.github.com/search/users?q={query}{&page,per_page,sort,order}'}\n"
          ]
        }
      ],
      "source": [
        "# import requests module\n",
        "import requests\n",
        " \n",
        "# Making a get request\n",
        "response = requests.get('https://api.github.com')\n",
        " \n",
        "# print response\n",
        "print(response)\n",
        " \n",
        "# print json content\n",
        "print(response.json())"
      ]
    },
    {
      "cell_type": "markdown",
      "source": [
        "<h2>r = read</h2>\n",
        "<h2>w = write</h2>\n",
        "<h2>a = read/write"
      ],
      "metadata": {
        "id": "fbBCjc_vM_VF"
      }
    },
    {
      "cell_type": "code",
      "source": [
        "with open(\"sample_data/data.txt\", \"r\") as archivo:\n",
        "    lectura = archivo.read()\n",
        "    print(lectura)\n",
        "\n"
      ],
      "metadata": {
        "colab": {
          "base_uri": "https://localhost:8080/"
        },
        "id": "Bc7CVa1hMkGY",
        "outputId": "c1edf056-748f-4e89-a109-2cf4a8c065d0"
      },
      "execution_count": null,
      "outputs": [
        {
          "output_type": "stream",
          "name": "stdout",
          "text": [
            "Hola amigos!!!\n"
          ]
        }
      ]
    },
    {
      "cell_type": "code",
      "source": [
        "#with open(\"sample_data/testdir/data.txt\",\"w\") as f:\n",
        " #   f.write(\"Jelouuu\")\n",
        "\n",
        "with open(\"sample_data/testdir/data.txt\",\"r\") as f:\n",
        "    lectura= f.read()\n",
        "    #print(lectura)\n",
        "\n",
        "with open(\"sample_data/testdir/data.txt\",\"a\") as f:\n",
        "    f.write(\"12\")\n",
        "\n",
        "with open(\"sample_data/testdir/data.txt\",\"r\", encoding=\"utf-8\") as f:\n",
        "    lectura= f.read(10)\n",
        "    print(\"leer donde quiero {} \".format(lectura))"
      ],
      "metadata": {
        "colab": {
          "base_uri": "https://localhost:8080/"
        },
        "id": "DAvv0QeeQ-EX",
        "outputId": "c514dc0a-48b4-4175-8e4f-03a801c8399e"
      },
      "execution_count": null,
      "outputs": [
        {
          "output_type": "stream",
          "name": "stdout",
          "text": [
            "leer donde quiero Hola amigo \n"
          ]
        }
      ]
    },
    {
      "cell_type": "code",
      "source": [
        "f = open(\"sample_data/testdir/data.txt\",\"r\")\n",
        "lectura= f.readline()\n",
        "print(\"leer donde quiero {} \".format(lectura))\n",
        "\n",
        "f.close()"
      ],
      "metadata": {
        "colab": {
          "base_uri": "https://localhost:8080/"
        },
        "id": "mPc1zxkMSE72",
        "outputId": "370425ed-4c2b-4fed-c51f-31b343ba8271"
      },
      "execution_count": null,
      "outputs": [
        {
          "output_type": "stream",
          "name": "stdout",
          "text": [
            "leer donde quiero Hola amigos!!!\n",
            " \n"
          ]
        }
      ]
    },
    {
      "cell_type": "code",
      "source": [
        "import numpy\n",
        "import pandas \n",
        "from matplotlib import pyplot\n",
        "x = [2,3,4,5,6,7,8,9,10]\n",
        "y = [324,343,34,34,344,2,3,9,10]\n",
        "pyplot.plot(x,y)\n",
        "pyplot.title(\"Mi grafica\")\n",
        "pyplot.xlabel(\"tiempo [segundos]\")\n",
        "pyplot.ylabel(\"Corriente[amperes]\")\n",
        "pyplot.show()"
      ],
      "metadata": {
        "colab": {
          "base_uri": "https://localhost:8080/",
          "height": 295
        },
        "id": "99j1mNg6RbXz",
        "outputId": "b632e2d3-962f-4b7a-baea-26cbc5fbb60c"
      },
      "execution_count": null,
      "outputs": [
        {
          "output_type": "display_data",
          "data": {
            "text/plain": [
              "<Figure size 432x288 with 1 Axes>"
            ],
            "image/png": "[encoded data removed]"
          },
          "metadata": {
            "needs_background": "light"
          }
        }
      ]
    }
  ]
}