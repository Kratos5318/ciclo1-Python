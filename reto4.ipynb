{
  "nbformat": 4,
  "nbformat_minor": 0,
  "metadata": {
    "colab": {
      "name": "reto4.ipynb",
      "provenance": [],
      "authorship_tag": "ABX9TyPHokux2PKqzSLtQuAbIi/u",
      "include_colab_link": true
    },
    "kernelspec": {
      "name": "python3",
      "display_name": "Python 3"
    },
    "language_info": {
      "name": "python"
    }
  },
  "cells": [
    {
      "cell_type": "markdown",
      "metadata": {
        "id": "view-in-github",
        "colab_type": "text"
      },
      "source": [
        "<a href=\"https://colab.research.google.com/github/Kratos5318/ciclo1-Python/blob/main/reto4.ipynb\" target=\"_parent\"><img src=\"https://colab.research.google.com/assets/colab-badge.svg\" alt=\"Open In Colab\"/></a>"
      ]
    },
    {
      "cell_type": "code",
      "execution_count": 4,
      "metadata": {
        "colab": {
          "base_uri": "https://localhost:8080/"
        },
        "id": "4_J-wAdN3z9v",
        "outputId": "41d195fb-f69f-47f1-f200-6fe5fbeb941e"
      },
      "outputs": [
        {
          "output_type": "stream",
          "name": "stdout",
          "text": [
            "Ingrese el registro: {\"t\": 66, \"u\": 72, \"d\": 90, \"r\": 84, \"j\": 36, \"g\": 50, \"s\": 94, \"q\": 62, \"f\": 35}  \n",
            "Ingrese pedido:   d p h u i e t q\n",
            "290\n",
            "d  u  t  q  \n"
          ]
        }
      ],
      "source": [
        "import json\n",
        "\n",
        "yeison = json.loads(input(\"Ingrese el registro: \"))\n",
        "pedido = input(\"Ingrese pedido: \")\n",
        "pedido = pedido.strip().split(' ')\n",
        "\n",
        "precio = 0\n",
        "compra = []\n",
        "keys = list(yeison.keys())\n",
        "\n",
        "for i in range(len(pedido)):\n",
        "  if pedido[i] in keys: \n",
        "    precio += yeison.get(pedido[i])\n",
        "    compra.append(pedido[i])    \n",
        " \n",
        "\n",
        "print(precio)\n",
        "    \n",
        "for j in compra:\n",
        "  print(j,\" \", end=\"\")\n",
        "print()"
      ]
    }
  ]
}