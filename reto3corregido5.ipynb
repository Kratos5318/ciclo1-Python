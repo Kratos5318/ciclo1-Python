{
  "nbformat": 4,
  "nbformat_minor": 0,
  "metadata": {
    "colab": {
      "name": "reto3corregido5.ipynb",
      "provenance": [],
      "authorship_tag": "ABX9TyNOpp6haBjf7A3tP/QN9Idj",
      "include_colab_link": true
    },
    "kernelspec": {
      "name": "python3",
      "display_name": "Python 3"
    },
    "language_info": {
      "name": "python"
    }
  },
  "cells": [
    {
      "cell_type": "markdown",
      "metadata": {
        "id": "view-in-github",
        "colab_type": "text"
      },
      "source": [
        "<a href=\"https://colab.research.google.com/github/Kratos5318/ciclo1-Python/blob/main/reto3corregido5.ipynb\" target=\"_parent\"><img src=\"https://colab.research.google.com/assets/colab-badge.svg\" alt=\"Open In Colab\"/></a>"
      ]
    },
    {
      "cell_type": "code",
      "execution_count": 1,
      "metadata": {
        "colab": {
          "base_uri": "https://localhost:8080/"
        },
        "id": "p0SY-k7pEnW2",
        "outputId": "24f22c89-3096-4ce1-aa66-967958b858b5"
      },
      "outputs": [
        {
          "output_type": "stream",
          "name": "stdout",
          "text": [
            "Ingrese los sonidos de las cuerdas separados por coma: \n",
            "E,E,e,E,E,d,E,E,D,c,C,E,E,B,E,E,a,E,A,E,g,E,G,E,f,E\n",
            "E D E D C E B E A E A E G E G E F E \n",
            " 5 1 2 1 2 2 1 2 1 1 1 1 1 1 1 1 1 1\n"
          ]
        }
      ],
      "source": [
        "def userInput():\n",
        "    Sonido_cuerdas = input(\"Ingrese los sonidos de las cuerdas separados por coma: \\n\")\n",
        "    \n",
        "    return Sonido_cuerdas\n",
        "\n",
        "def cleanFuntion(Sonidossucios):\n",
        "    Sonidossucios = Sonidossucios.upper()\n",
        "    trash = [\" \", \",\", \";\", \":\", \".\"]\n",
        "    for item in trash:\n",
        "        Sonidossucios = Sonidossucios.replace(item,\",\")\n",
        "        Sonidolimpio = Sonidossucios\n",
        "    return Sonidolimpio\n",
        "def separar(Sonidos_limpios):\n",
        "     Sonidos_limpios = Sonidos_limpios.split(\",\")\n",
        "     listasonidos = Sonidos_limpios\n",
        "     return listasonidos\n",
        "def listanotas(ListaS):\n",
        "  Notas = []\n",
        "  for indice in range(0, len(ListaS), 1):\n",
        "    variable=len(ListaS)-1\n",
        "  \n",
        "    if indice<variable:\n",
        "      item0 = ListaS[indice]\n",
        "      item1 = ListaS[indice+1]\n",
        "      if item0 != item1:\n",
        "        Notas.append(item0)\n",
        "    elif indice == variable:\n",
        "      item0 = ListaS[indice]\n",
        "      item1 = ListaS[indice-1]\n",
        "      Notas.append(item0)\n",
        "  return Notas\n",
        "def listacantidad(ListaS):\n",
        "  Cantidad = []\n",
        "  cuenta = 1\n",
        "  for indice2 in range(0, len(ListaS), 1):\n",
        "      variable2=len(ListaS)-1\n",
        "     \n",
        "      if indice2<variable2:\n",
        "        item2 = ListaS[indice2]\n",
        "        item3 = ListaS[indice2+1]\n",
        "\n",
        "        if item2 == item3:\n",
        "           cuenta = cuenta + 1\n",
        "        elif item2 != item3:\n",
        "            Cantidad.append(cuenta)\n",
        "            cuenta = 1\n",
        "            \n",
        "      elif indice2==variable2:\n",
        "         item2 = ListaS[indice2]\n",
        "         item3 = ListaS[indice2-1]\n",
        "         Cantidad.append(cuenta)\n",
        "         cuenta = 1\n",
        "  return Cantidad\n",
        "        \n",
        "\n",
        "\n",
        "Sonidossucios = userInput()\n",
        "Sonidos_limpios = cleanFuntion(Sonidossucios)\n",
        "ListaS= separar(Sonidos_limpios)\n",
        "Notaslista = listanotas(ListaS)\n",
        "StrNotas = \" \".join(Notaslista)\n",
        "CantidadNotas = listacantidad(ListaS)\n",
        "StrCantidad = \" \".join([str(_) for _ in CantidadNotas])\n",
        "print(StrNotas, \"\\n\", StrCantidad)"
      ]
    }
  ]
}