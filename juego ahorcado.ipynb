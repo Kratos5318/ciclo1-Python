{
  "nbformat": 4,
  "nbformat_minor": 0,
  "metadata": {
    "colab": {
      "name": "Untitled8.ipynb",
      "provenance": [],
      "include_colab_link": true
    },
    "kernelspec": {
      "name": "python3",
      "display_name": "Python 3"
    },
    "language_info": {
      "name": "python"
    }
  },
  "cells": [
    {
      "cell_type": "markdown",
      "metadata": {
        "id": "view-in-github",
        "colab_type": "text"
      },
      "source": [
        "<a href=\"https://colab.research.google.com/github/Kratos5318/ciclo1-Python/blob/main/juego%20ahorcado.ipynb\" target=\"_parent\"><img src=\"https://colab.research.google.com/assets/colab-badge.svg\" alt=\"Open In Colab\"/></a>"
      ]
    },
    {
      "cell_type": "markdown",
      "source": [
        "<h2>Juego del ahorcado</h2>\n",
        "<h3>Lógica\n",
        "<br>\n",
        "1. Crear la lista\n",
        "<br>\n",
        "2. Escoge una palabra aleatoria de una lista\n",
        "<br>\n",
        "3. Muestra la longitud de la palabra\n",
        "<br>\n",
        "4. Solicitar una letra\n",
        "<br> \n",
        "5. Comparar si la letra esta en la palabra escogida\n",
        "<br>\n",
        "6. Mostrar la letra en la posición de la palabra\n",
        "<br> \n",
        "7. Condición: si la letra no esta en la palabra escribir las vidas que le quedan\n",
        "<br>\n",
        "\n",
        "</h3>"
      ],
      "metadata": {
        "id": "UjT1lk_C65hz"
      }
    },
    {
      "cell_type": "code",
      "execution_count": null,
      "metadata": {
        "colab": {
          "base_uri": "https://localhost:8080/",
          "height": 105
        },
        "id": "9W7rYtIY64xr",
        "outputId": "f404286d-3e28-4759-a091-80e3dd35d826"
      },
      "outputs": [
        {
          "output_type": "stream",
          "name": "stdout",
          "text": [
            "El entero: 3 \n",
            " el decimal: 2.1235 \n",
            " La booleana: False \n",
            " El texto: todo bien dijo el Pibe\n"
          ]
        },
        {
          "output_type": "execute_result",
          "data": {
            "text/plain": [
              "'\\nfor i in listas:\\n    print(\"Esta es la lista de {}\".format(i))\\n    print(i)\\n'"
            ],
            "application/vnd.google.colaboratory.intrinsic+json": {
              "type": "string"
            }
          },
          "metadata": {},
          "execution_count": 13
        }
      ],
      "source": [
        "lista_animales = [\"perro\", \"gato\", \"conejo\", \"pollo\", \"delfin\"]\n",
        "lista_colores = [\"amarillo\", \"azul\", \"rojo\", \"verde\", \"violeta\"]\n",
        "listas = [lista_animales, lista_colores]\n",
        "entero = 3\n",
        "decimal = 2.123453\n",
        "booleana = False\n",
        "texto = \"todo bien dijo el Pibe\"\n",
        "#decimal = round(decimal, 2)\n",
        "print(\"El entero: {} \\n el decimal: {:.4f} \\n La booleana: {} \\n El texto: {}\".format(entero, decimal , booleana , texto))\n",
        "\"\"\"\n",
        "for i in listas:\n",
        "    print(\"Esta es la lista de {}\".format(i))\n",
        "    print(i)\n",
        "\"\"\""
      ]
    }
  ]
}