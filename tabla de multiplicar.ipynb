{
  "nbformat": 4,
  "nbformat_minor": 0,
  "metadata": {
    "colab": {
      "name": "Untitled13.ipynb",
      "provenance": [],
      "include_colab_link": true
    },
    "kernelspec": {
      "name": "python3",
      "display_name": "Python 3"
    },
    "language_info": {
      "name": "python"
    }
  },
  "cells": [
    {
      "cell_type": "markdown",
      "metadata": {
        "id": "view-in-github",
        "colab_type": "text"
      },
      "source": [
        "<a href=\"https://colab.research.google.com/github/Kratos5318/ciclo1-Python/blob/main/tabla%20de%20multiplicar.ipynb\" target=\"_parent\"><img src=\"https://colab.research.google.com/assets/colab-badge.svg\" alt=\"Open In Colab\"/></a>"
      ]
    },
    {
      "cell_type": "markdown",
      "source": [
        "<h2>\n",
        "<p>\n",
        "Diseñe un programa que muestre la tabla de multiplicar que quiera el usuario.\n",
        "</p>\n",
        "</h2>\n",
        "<h2>Algóritmo</h2>\n",
        "<ul>\n",
        "<li> crear variable \"userInput\" (solitarla al usuario)</li>\n",
        "<li> Convertir userInput a un entero</li>\n",
        "<li> hacer un ciclo para las multiplicaciones</li>\n",
        "<li> mostrar el resultado </li>\n",
        "</ul>"
      ],
      "metadata": {
        "id": "5J2tqWtbwlLS"
      }
    },
    {
      "cell_type": "code",
      "execution_count": null,
      "metadata": {
        "colab": {
          "base_uri": "https://localhost:8080/"
        },
        "id": "hNJLbw0xwkZU",
        "outputId": "5269ad6c-345b-46c0-fce5-e297a43f0761"
      },
      "outputs": [
        {
          "output_type": "stream",
          "name": "stdout",
          "text": [
            "[('Pedro', '123'), ('Marcos', '123'), ('Juan', '123')]\n"
          ]
        }
      ],
      "source": [
        "\"\"\"\n",
        "Listas globales, porque estan fuera de las funciones\n",
        "\"\"\"\n",
        "lista_nombres = [\"Mateo\", \"Marcos\", \"Juan\"]\n",
        "lista_passwords = [\"123\", \"123\", \"123\" ]\n",
        "lista_nombres[0] = \"Pedro\"\n",
        "lista_credenciales = []\n",
        "for i in range(0, len(lista_nombres),1):\n",
        "    nombre = lista_nombres[i]\n",
        "    password = lista_passwords[i]\n",
        "    tupla = (nombre, password)\n",
        "    lista_credenciales.append(tupla)\n",
        "print(lista_credenciales)\n",
        "#lista_credenciales[0][0] = 'Pedro'\n"
      ]
    },
    {
      "cell_type": "code",
      "source": [
        "\n",
        "lista_numero = []\n",
        "\n",
        "def solicitar():\n",
        "    userInput = input(\"ingresa la tabla de multiplicar que quieres ver: \")\n",
        "    userInput = int(userInput)\n",
        "    return userInput\n",
        "\n",
        "def operaciones(numero):\n",
        "    for i in range(0,10,1):\n",
        "        tupla = (i, i*numero) #variable inmutable, creo una tupla nueva las veces necesarias\n",
        "        lista_numero.append(tupla)\n",
        "\n",
        "def mostrarTabla(numero):\n",
        "    for i in lista_numero:\n",
        "        print(\"{} x {} = {}\".format(i[0], numero, i[1]))\n",
        "numero = solicitar()\n",
        "operaciones(numero)\n",
        "mostrarTabla(numero)\n"
      ],
      "metadata": {
        "id": "wboEVGSe2WnS"
      },
      "execution_count": null,
      "outputs": []
    }
  ]
}