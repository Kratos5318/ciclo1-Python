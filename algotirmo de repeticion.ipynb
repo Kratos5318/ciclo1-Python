{
  "nbformat": 4,
  "nbformat_minor": 0,
  "metadata": {
    "colab": {
      "name": "Untitled16.ipynb",
      "provenance": [],
      "include_colab_link": true
    },
    "kernelspec": {
      "name": "python3",
      "display_name": "Python 3"
    },
    "language_info": {
      "name": "python"
    }
  },
  "cells": [
    {
      "cell_type": "markdown",
      "metadata": {
        "id": "view-in-github",
        "colab_type": "text"
      },
      "source": [
        "<a href=\"https://colab.research.google.com/github/Kratos5318/ciclo1-Python/blob/main/algotirmo%20de%20repeticion.ipynb\" target=\"_parent\"><img src=\"https://colab.research.google.com/assets/colab-badge.svg\" alt=\"Open In Colab\"/></a>"
      ]
    },
    {
      "cell_type": "markdown",
      "source": [
        "<h1>Ejercicios</h1>\n",
        "<p>Desarrollar un programa que determine si en una lista no existen elementos repetidos.</p>\n",
        "<h2>Algóritmo</h2>\n",
        "<ul>\n",
        "<li> Pedir una lista y guardarlo en una variable</li>\n",
        "<li> Correr un for de la lista para mirar elemento a elemento</li>\n",
        "<li> hacer un condición si se repite decir cuales son</li>\n",
        "<li> Guardar en otra lista cuales no se repiten</li>\n",
        "<li>Mostrarlos por pantalla</li>\n",
        "\n",
        "</ul>"
      ],
      "metadata": {
        "id": "Hze1dASmHWgw"
      }
    },
    {
      "cell_type": "code",
      "execution_count": null,
      "metadata": {
        "colab": {
          "base_uri": "https://localhost:8080/"
        },
        "id": "jdP6XUXzHKxY",
        "outputId": "d0910187-d63d-45c6-a3a2-e9dca7071efe"
      },
      "outputs": [
        {
          "output_type": "stream",
          "name": "stdout",
          "text": [
            "Ingrese una lista separado cada elemento por un espacio: \n",
            "perro gato 2 perro casa 3 2 cabra elefante elefante pizza pizza perro pizza perro pizza\n",
            "posición 0, item perro\n",
            "posición 1, item gato\n",
            "posición 2, item 2\n",
            "posición 3, item perro\n",
            "posición 4, item casa\n",
            "posición 5, item 3\n",
            "posición 6, item 2\n",
            "posición 7, item cabra\n",
            "posición 8, item elefante\n",
            "posición 9, item elefante\n",
            "posición 10, item pizza\n",
            "posición 11, item pizza\n",
            "posición 12, item perro\n",
            "posición 13, item pizza\n",
            "posición 14, item perro\n",
            "posición 15, item pizza\n",
            "Lista de elementos repetidos ['perro', '2', 'elefante', 'pizza']\n",
            "Lista de elementos no repetidos ['gato', 'casa', '3', 'cabra']\n",
            "el item perro, se repite: 4 veces\n",
            "el item 2, se repite: 2 veces\n",
            "el item elefante, se repite: 2 veces\n",
            "el item pizza, se repite: 4 veces\n",
            "el item gato, se repite: 1 veces\n",
            "el item casa, se repite: 1 veces\n",
            "el item 3, se repite: 1 veces\n",
            "el item cabra, se repite: 1 veces\n"
          ]
        }
      ],
      "source": [
        "userInput = input(\"Ingrese una lista separado cada elemento por un espacio: \\n\")\n",
        "userInput = userInput.split(\" \")\n",
        "repetido = []\n",
        "noRepetido = []\n",
        "listaPaso = []\n",
        "#For para los items repetidos\n",
        "for posicion in range(0,len(userInput),1):\n",
        "    item0 = userInput[posicion]\n",
        "    print(\"posición {}, item {}\".format(posicion, item0))\n",
        "    restriccion1 = item0 in listaPaso\n",
        "    if restriccion1 == False:\n",
        "        listaPaso.append(item0)\n",
        "    elif restriccion1 == True:\n",
        "        if item0 not in repetido:\n",
        "            repetido.append(item0)\n",
        "            \n",
        "    \n",
        "#for para los items que estan repetidos\n",
        "for indice in range(0,len(userInput),1):\n",
        "    item0 = userInput[indice]\n",
        "    restriccion2 = item0 in repetido\n",
        "    if restriccion2 == False:\n",
        "        noRepetido.append(item0)\n",
        "\n",
        "print(\"Lista de elementos repetidos {}\".format(repetido))\n",
        "print(\"Lista de elementos no repetidos {}\".format(noRepetido))\n",
        "for i in repetido:\n",
        "    cantidad = userInput.count(i)\n",
        "    print(\"el item {}, se repite: {} veces\".format(i, cantidad))\n",
        "for i in noRepetido:\n",
        "    cantidad = userInput.count(i)\n",
        "    print(\"el item {}, se repite: {} veces\".format(i, cantidad))"
      ]
    },
    {
      "cell_type": "markdown",
      "source": [
        "<h2>Funciones</h2>\n",
        "<p>Realizar una función que solicite dos numero y devuelva su suma</p>"
      ],
      "metadata": {
        "id": "4IY780FLUDTP"
      }
    },
    {
      "cell_type": "code",
      "source": [
        "def solicitar():\n",
        "    numero1 = input(\"Señor usuario, ingrese un número: \\n\") #input devuelve todo en forma de texto (str)\n",
        "    numero1 = int(numero1)#convierte texto a numeros enteros\n",
        "    numero2 = input(\"Señor usuario, ingrese otro número: \\n\")\n",
        "    numero2 = int(numero2)\n",
        "    caja = [numero1, numero2] #Lista\n",
        "    return caja\n",
        "\n",
        "def operacionSumar(caja):\n",
        "    numero1 = caja[0]\n",
        "    numero2 = caja[1]\n",
        "    suma = numero1 +numero2\n",
        "    return suma\n"
      ],
      "metadata": {
        "colab": {
          "base_uri": "https://localhost:8080/"
        },
        "id": "ieoTpfYeUPCF",
        "outputId": "22ed15c0-9be0-4fb6-e661-d5d6fd91d2e5"
      },
      "execution_count": null,
      "outputs": [
        {
          "output_type": "stream",
          "name": "stdout",
          "text": [
            "Señor usuario, ingrese un número: \n",
            "2\n",
            "Señor usuario, ingrese otro número: \n",
            "4\n",
            "<class 'list'>\n"
          ]
        }
      ]
    },
    {
      "cell_type": "code",
      "source": [
        ""
      ],
      "metadata": {
        "id": "iAbtMPGHYCvb"
      },
      "execution_count": null,
      "outputs": []
    }
  ]
}